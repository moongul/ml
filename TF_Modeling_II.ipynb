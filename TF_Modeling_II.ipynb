{
 "cells": [
  {
   "cell_type": "code",
   "execution_count": 1,
   "id": "gentle-airport",
   "metadata": {},
   "outputs": [],
   "source": [
    "import tensorflow as tf\n",
    "from tensorflow.keras.layers import Dense, Flatten, Input\n",
    "from tensorflow.keras.models import Sequential, Model"
   ]
  },
  {
   "cell_type": "code",
   "execution_count": 2,
   "id": "going-printing",
   "metadata": {},
   "outputs": [],
   "source": [
    "mnist = tf.keras.datasets.mnist"
   ]
  },
  {
   "cell_type": "code",
   "execution_count": 3,
   "id": "functional-sydney",
   "metadata": {},
   "outputs": [],
   "source": [
    "(x_train, y_train), (x_valid, y_valid) = mnist.load_data()"
   ]
  },
  {
   "cell_type": "code",
   "execution_count": 4,
   "id": "yellow-arizona",
   "metadata": {},
   "outputs": [
    {
     "output_type": "execute_result",
     "data": {
      "text/plain": [
       "((60000, 28, 28), (10000, 28, 28))"
      ]
     },
     "metadata": {},
     "execution_count": 4
    }
   ],
   "source": [
    "x_train.shape, x_valid.shape"
   ]
  },
  {
   "cell_type": "code",
   "execution_count": 5,
   "id": "collected-influence",
   "metadata": {},
   "outputs": [
    {
     "output_type": "execute_result",
     "data": {
      "text/plain": [
       "((60000,), (10000,))"
      ]
     },
     "metadata": {},
     "execution_count": 5
    }
   ],
   "source": [
    "y_train.shape, y_valid.shape"
   ]
  },
  {
   "cell_type": "markdown",
   "id": "divine-zoning",
   "metadata": {},
   "source": [
    "## Sequential API"
   ]
  },
  {
   "cell_type": "code",
   "execution_count": 6,
   "id": "adjacent-healing",
   "metadata": {},
   "outputs": [],
   "source": [
    "model = Sequential([\n",
    "    Flatten(input_shape=(28, 28)),\n",
    "    Dense(256, activation='relu'),\n",
    "    Dense(128, activation='relu'),\n",
    "    Dense(64, activation='relu'),\n",
    "    Dense(32, activation='relu'),\n",
    "    Dense(10, activation='softmax')\n",
    "])"
   ]
  },
  {
   "cell_type": "code",
   "execution_count": 7,
   "id": "incident-organizer",
   "metadata": {},
   "outputs": [
    {
     "output_type": "stream",
     "name": "stdout",
     "text": [
      "Model: \"sequential\"\n_________________________________________________________________\nLayer (type)                 Output Shape              Param #   \n=================================================================\nflatten (Flatten)            (None, 784)               0         \n_________________________________________________________________\ndense (Dense)                (None, 256)               200960    \n_________________________________________________________________\ndense_1 (Dense)              (None, 128)               32896     \n_________________________________________________________________\ndense_2 (Dense)              (None, 64)                8256      \n_________________________________________________________________\ndense_3 (Dense)              (None, 32)                2080      \n_________________________________________________________________\ndense_4 (Dense)              (None, 10)                330       \n=================================================================\nTotal params: 244,522\nTrainable params: 244,522\nNon-trainable params: 0\n_________________________________________________________________\n"
     ]
    }
   ],
   "source": [
    "model.summary(0)"
   ]
  },
  {
   "cell_type": "code",
   "execution_count": 8,
   "id": "loaded-addiction",
   "metadata": {},
   "outputs": [
    {
     "output_type": "stream",
     "name": "stdout",
     "text": [
      "Epoch 1/10\n",
      "1875/1875 [==============================] - 10s 4ms/step - loss: 1.7835 - acc: 0.7990 - val_loss: 0.2266 - val_acc: 0.9374\n",
      "Epoch 2/10\n",
      "1875/1875 [==============================] - 7s 4ms/step - loss: 0.1976 - acc: 0.9445 - val_loss: 0.1720 - val_acc: 0.9526\n",
      "Epoch 3/10\n",
      "1875/1875 [==============================] - 7s 4ms/step - loss: 0.1442 - acc: 0.9608 - val_loss: 0.1409 - val_acc: 0.9615\n",
      "Epoch 4/10\n",
      "1875/1875 [==============================] - 7s 4ms/step - loss: 0.1198 - acc: 0.9659 - val_loss: 0.1240 - val_acc: 0.9664\n",
      "Epoch 5/10\n",
      "1875/1875 [==============================] - 7s 4ms/step - loss: 0.0977 - acc: 0.9728 - val_loss: 0.1022 - val_acc: 0.9712\n",
      "Epoch 6/10\n",
      "1875/1875 [==============================] - 7s 4ms/step - loss: 0.0805 - acc: 0.9764 - val_loss: 0.1140 - val_acc: 0.9682\n",
      "Epoch 7/10\n",
      "1875/1875 [==============================] - 7s 4ms/step - loss: 0.0718 - acc: 0.9791 - val_loss: 0.1123 - val_acc: 0.9723\n",
      "Epoch 8/10\n",
      "1875/1875 [==============================] - 7s 4ms/step - loss: 0.0660 - acc: 0.9808 - val_loss: 0.0952 - val_acc: 0.9759\n",
      "Epoch 9/10\n",
      "1875/1875 [==============================] - 7s 4ms/step - loss: 0.0593 - acc: 0.9841 - val_loss: 0.1135 - val_acc: 0.9757\n",
      "Epoch 10/10\n",
      "1875/1875 [==============================] - 7s 4ms/step - loss: 0.0556 - acc: 0.9854 - val_loss: 0.1512 - val_acc: 0.9671\n"
     ]
    },
    {
     "output_type": "execute_result",
     "data": {
      "text/plain": [
       "<tensorflow.python.keras.callbacks.History at 0x214bd738f70>"
      ]
     },
     "metadata": {},
     "execution_count": 8
    }
   ],
   "source": [
    "model.compile(optimizer='adam', loss='sparse_categorical_crossentropy', metrics=['acc'])\n",
    "\n",
    "model.fit(x_train, y_train,\n",
    "         validation_data=(x_valid, y_valid),\n",
    "         epochs=10)"
   ]
  },
  {
   "cell_type": "markdown",
   "id": "starting-faith",
   "metadata": {},
   "source": [
    "## Functional API"
   ]
  },
  {
   "cell_type": "code",
   "execution_count": 11,
   "id": "inclusive-following",
   "metadata": {},
   "outputs": [],
   "source": [
    "input_ = Input(shape=(28, 28))"
   ]
  },
  {
   "cell_type": "code",
   "execution_count": 12,
   "id": "intelligent-philadelphia",
   "metadata": {},
   "outputs": [],
   "source": [
    "x1 = Flatten()(input_)\n",
    "x2 = Dense(256, activation='relu')(x1)\n",
    "x3 = Dense(128, activation='relu')(x2)\n",
    "x4 = Dense(64, activation='relu')(x3)\n",
    "x5 = Dense(32, activation='relu')(x4)\n",
    "output_ = Dense(10, activation='softmax')(x5)"
   ]
  },
  {
   "cell_type": "code",
   "execution_count": 13,
   "id": "foreign-jordan",
   "metadata": {},
   "outputs": [],
   "source": [
    "model = Model(input_, output_)"
   ]
  },
  {
   "cell_type": "code",
   "execution_count": 14,
   "id": "annoying-attempt",
   "metadata": {},
   "outputs": [
    {
     "output_type": "stream",
     "name": "stdout",
     "text": [
      "Model: \"model\"\n_________________________________________________________________\nLayer (type)                 Output Shape              Param #   \n=================================================================\ninput_1 (InputLayer)         [(None, 28, 28)]          0         \n_________________________________________________________________\nflatten_2 (Flatten)          (None, 784)               0         \n_________________________________________________________________\ndense_5 (Dense)              (None, 256)               200960    \n_________________________________________________________________\ndense_6 (Dense)              (None, 128)               32896     \n_________________________________________________________________\ndense_7 (Dense)              (None, 64)                8256      \n_________________________________________________________________\ndense_8 (Dense)              (None, 32)                2080      \n_________________________________________________________________\ndense_9 (Dense)              (None, 10)                330       \n=================================================================\nTotal params: 244,522\nTrainable params: 244,522\nNon-trainable params: 0\n_________________________________________________________________\n"
     ]
    }
   ],
   "source": [
    "model.summary()"
   ]
  },
  {
   "cell_type": "markdown",
   "id": "later-citizenship",
   "metadata": {},
   "source": [
    "## Sub-Classing"
   ]
  },
  {
   "cell_type": "code",
   "execution_count": 15,
   "id": "every-light",
   "metadata": {},
   "outputs": [],
   "source": [
    "class MyModel(Model):\n",
    "    def __init__(self):\n",
    "        super(MyModel, self).__init__()\n",
    "        self.flatten = Flatten()\n",
    "        self.dense1 = Dense(256, activation='relu')\n",
    "        self.dense2 = Dense(128, activation='relu')\n",
    "        self.dense3 = Dense(64, activation='relu')\n",
    "        self.dense4 = Dense(32, activation='relu')\n",
    "        self.output_ = Dense(10, activation='softmax')\n",
    "    \n",
    "    def call(self, input_):\n",
    "        x = self.flatten(input_)\n",
    "        x = self.dense1(x)\n",
    "        x = self.dense2(x)\n",
    "        x = self.dense3(x)\n",
    "        x = self.dense4(x)\n",
    "        x = self.output_(x)\n",
    "        return x"
   ]
  },
  {
   "cell_type": "code",
   "execution_count": 16,
   "id": "fatty-discussion",
   "metadata": {},
   "outputs": [],
   "source": [
    "model = MyModel()"
   ]
  },
  {
   "cell_type": "code",
   "execution_count": 17,
   "id": "latest-absorption",
   "metadata": {},
   "outputs": [
    {
     "output_type": "execute_result",
     "data": {
      "text/plain": [
       "<KerasTensor: shape=(None, 10) dtype=float32 (created by layer 'my_model')>"
      ]
     },
     "metadata": {},
     "execution_count": 17
    }
   ],
   "source": [
    "model(input_)"
   ]
  },
  {
   "cell_type": "code",
   "execution_count": 18,
   "id": "rocky-essex",
   "metadata": {},
   "outputs": [
    {
     "output_type": "stream",
     "name": "stdout",
     "text": [
      "Model: \"my_model\"\n_________________________________________________________________\nLayer (type)                 Output Shape              Param #   \n=================================================================\nflatten_3 (Flatten)          multiple                  0         \n_________________________________________________________________\ndense_10 (Dense)             multiple                  200960    \n_________________________________________________________________\ndense_11 (Dense)             multiple                  32896     \n_________________________________________________________________\ndense_12 (Dense)             multiple                  8256      \n_________________________________________________________________\ndense_13 (Dense)             multiple                  2080      \n_________________________________________________________________\ndense_14 (Dense)             multiple                  330       \n=================================================================\nTotal params: 244,522\nTrainable params: 244,522\nNon-trainable params: 0\n_________________________________________________________________\n"
     ]
    }
   ],
   "source": [
    "model.summary()"
   ]
  },
  {
   "cell_type": "code",
   "execution_count": 19,
   "id": "thrown-element",
   "metadata": {},
   "outputs": [
    {
     "output_type": "stream",
     "name": "stdout",
     "text": [
      "Epoch 1/10\n",
      "1875/1875 [==============================] - 8s 4ms/step - loss: 1.8076 - acc: 0.7766 - val_loss: 0.2427 - val_acc: 0.9323\n",
      "Epoch 2/10\n",
      "1875/1875 [==============================] - 7s 4ms/step - loss: 0.2205 - acc: 0.9397 - val_loss: 0.1979 - val_acc: 0.9484\n",
      "Epoch 3/10\n",
      "1875/1875 [==============================] - 7s 4ms/step - loss: 0.1533 - acc: 0.9580 - val_loss: 0.1471 - val_acc: 0.9637\n",
      "Epoch 4/10\n",
      "1875/1875 [==============================] - 7s 4ms/step - loss: 0.1205 - acc: 0.9663 - val_loss: 0.1330 - val_acc: 0.9602\n",
      "Epoch 5/10\n",
      "1875/1875 [==============================] - 7s 4ms/step - loss: 0.1021 - acc: 0.9714 - val_loss: 0.1190 - val_acc: 0.9692\n",
      "Epoch 6/10\n",
      "1875/1875 [==============================] - 7s 4ms/step - loss: 0.0861 - acc: 0.9755 - val_loss: 0.1086 - val_acc: 0.9714\n",
      "Epoch 7/10\n",
      "1875/1875 [==============================] - 7s 4ms/step - loss: 0.0717 - acc: 0.9801 - val_loss: 0.1076 - val_acc: 0.9721\n",
      "Epoch 8/10\n",
      "1875/1875 [==============================] - 7s 4ms/step - loss: 0.0629 - acc: 0.9830 - val_loss: 0.1544 - val_acc: 0.9630\n",
      "Epoch 9/10\n",
      "1875/1875 [==============================] - 7s 4ms/step - loss: 0.0693 - acc: 0.9816 - val_loss: 0.1185 - val_acc: 0.9694\n",
      "Epoch 10/10\n",
      "1875/1875 [==============================] - 7s 4ms/step - loss: 0.0574 - acc: 0.9847 - val_loss: 0.1160 - val_acc: 0.9705\n"
     ]
    },
    {
     "output_type": "execute_result",
     "data": {
      "text/plain": [
       "<tensorflow.python.keras.callbacks.History at 0x214e4167bb0>"
      ]
     },
     "metadata": {},
     "execution_count": 19
    }
   ],
   "source": [
    "model.compile(optimizer='adam', loss='sparse_categorical_crossentropy', metrics=['acc'])\n",
    "\n",
    "model.fit(x_train, y_train,\n",
    "         validation_data=(x_valid, y_valid),\n",
    "         epochs=10)"
   ]
  },
  {
   "cell_type": "markdown",
   "id": "selected-florist",
   "metadata": {},
   "source": [
    "## Layer Custom"
   ]
  },
  {
   "cell_type": "code",
   "execution_count": 20,
   "id": "bizarre-particle",
   "metadata": {},
   "outputs": [],
   "source": [
    "class MyDense(tf.keras.layers.Layer):\n",
    "    def __init__(self, nodes):\n",
    "        super(MyDense, self).__init__()\n",
    "        self.dense1 = Dense(nodes, activation='relu')\n",
    "        self.dense2 = Dense(nodes // 2, activation='relu')\n",
    "        self.dense3 = Dense(nodes // 4, activation='relu')\n",
    "        self.dense4 = Dense(nodes // 8, activation='relu')\n",
    "    \n",
    "    def call(self, x):\n",
    "        x = self.dense1(x)\n",
    "        x = self.dense2(x)\n",
    "        x = self.dense3(x)\n",
    "        x = self.dense4(x)\n",
    "        return x"
   ]
  },
  {
   "cell_type": "code",
   "execution_count": 21,
   "id": "median-zealand",
   "metadata": {},
   "outputs": [],
   "source": [
    "class MyModel(Model):\n",
    "    def __init__(self):\n",
    "        super(MyModel, self).__init__()\n",
    "        self.flatten = Flatten()\n",
    "        self.dense = MyDense(256)\n",
    "        self.output_ = Dense(10, activation='softmax')\n",
    "    \n",
    "    def call(self, input_):\n",
    "        x = self.flatten(input_)\n",
    "        x = self.dense(x)\n",
    "        x = self.output_(x)\n",
    "        return x"
   ]
  },
  {
   "cell_type": "code",
   "execution_count": 22,
   "id": "persistent-nomination",
   "metadata": {},
   "outputs": [
    {
     "output_type": "execute_result",
     "data": {
      "text/plain": [
       "<KerasTensor: shape=(None, 10) dtype=float32 (created by layer 'my_model_1')>"
      ]
     },
     "metadata": {},
     "execution_count": 22
    }
   ],
   "source": [
    "model = MyModel()\n",
    "input_ = Input(shape=(28, 28))\n",
    "model(input_)"
   ]
  },
  {
   "cell_type": "code",
   "execution_count": 23,
   "id": "loving-fault",
   "metadata": {},
   "outputs": [
    {
     "output_type": "stream",
     "name": "stdout",
     "text": [
      "Epoch 1/10\n",
      "1875/1875 [==============================] - 8s 4ms/step - loss: 1.7061 - acc: 0.7906 - val_loss: 0.2098 - val_acc: 0.9415\n",
      "Epoch 2/10\n",
      "1875/1875 [==============================] - 7s 4ms/step - loss: 0.1869 - acc: 0.9467 - val_loss: 0.1656 - val_acc: 0.9543\n",
      "Epoch 3/10\n",
      "1875/1875 [==============================] - 7s 4ms/step - loss: 0.1439 - acc: 0.9578 - val_loss: 0.1429 - val_acc: 0.9602\n",
      "Epoch 4/10\n",
      "1875/1875 [==============================] - 7s 4ms/step - loss: 0.1143 - acc: 0.9676 - val_loss: 0.1442 - val_acc: 0.9639\n",
      "Epoch 5/10\n",
      "1875/1875 [==============================] - 7s 4ms/step - loss: 0.0977 - acc: 0.9722 - val_loss: 0.1284 - val_acc: 0.9655\n",
      "Epoch 6/10\n",
      "1875/1875 [==============================] - 7s 4ms/step - loss: 0.0832 - acc: 0.9766 - val_loss: 0.1327 - val_acc: 0.9692\n",
      "Epoch 7/10\n",
      "1875/1875 [==============================] - 7s 4ms/step - loss: 0.0666 - acc: 0.9811 - val_loss: 0.1009 - val_acc: 0.9714\n",
      "Epoch 8/10\n",
      "1875/1875 [==============================] - 7s 4ms/step - loss: 0.0623 - acc: 0.9822 - val_loss: 0.1796 - val_acc: 0.9612\n",
      "Epoch 9/10\n",
      "1875/1875 [==============================] - 7s 4ms/step - loss: 0.0571 - acc: 0.9845 - val_loss: 0.1031 - val_acc: 0.9749\n",
      "Epoch 10/10\n",
      "1875/1875 [==============================] - 7s 4ms/step - loss: 0.0525 - acc: 0.9861 - val_loss: 0.1212 - val_acc: 0.9736\n"
     ]
    },
    {
     "output_type": "execute_result",
     "data": {
      "text/plain": [
       "<tensorflow.python.keras.callbacks.History at 0x215a77dfe50>"
      ]
     },
     "metadata": {},
     "execution_count": 23
    }
   ],
   "source": [
    "model.compile(optimizer='adam', loss='sparse_categorical_crossentropy', metrics=['acc'])\n",
    "\n",
    "model.fit(x_train, y_train,\n",
    "         validation_data=(x_valid, y_valid),\n",
    "         epochs=10)"
   ]
  },
  {
   "cell_type": "code",
   "execution_count": 24,
   "id": "major-affiliate",
   "metadata": {},
   "outputs": [],
   "source": [
    "train_data = tf.data.Dataset.from_tensor_slices((x_train, y_train)).shuffle(1000).batch(32)\n",
    "valid_data = tf.data.Dataset.from_tensor_slices((x_valid, y_valid)).shuffle(1000).batch(32)"
   ]
  },
  {
   "cell_type": "code",
   "execution_count": 25,
   "id": "cleared-ballet",
   "metadata": {},
   "outputs": [],
   "source": [
    "optimizer = tf.keras.optimizers.Adam()"
   ]
  },
  {
   "cell_type": "code",
   "execution_count": 26,
   "id": "neither-rescue",
   "metadata": {},
   "outputs": [],
   "source": [
    "loss_function = tf.keras.losses.SparseCategoricalCrossentropy()"
   ]
  },
  {
   "cell_type": "code",
   "execution_count": 27,
   "id": "studied-teddy",
   "metadata": {},
   "outputs": [],
   "source": [
    "train_loss = tf.keras.metrics.Mean()\n",
    "train_accuracy = tf.keras.metrics.SparseCategoricalAccuracy() \n",
    "valid_loss = tf.keras.metrics.Mean()\n",
    "valid_accuracy = tf.keras.metrics.SparseCategoricalAccuracy()"
   ]
  },
  {
   "cell_type": "code",
   "execution_count": 28,
   "id": "cathedral-infrastructure",
   "metadata": {},
   "outputs": [],
   "source": [
    "@tf.function\n",
    "def train_step(images, labels):\n",
    "    with tf.GradientTape() as tape:\n",
    "        predictions = model(images, training=True)\n",
    "        loss = loss_function(labels, predictions)\n",
    "    gradients = tape.gradient(loss, model.trainable_variables)\n",
    "    optimizer.apply_gradients(zip(gradients, model.trainable_variables))\n",
    "    train_loss(loss)\n",
    "    train_accuracy(labels, predictions)"
   ]
  },
  {
   "cell_type": "code",
   "execution_count": 29,
   "id": "german-fault",
   "metadata": {},
   "outputs": [],
   "source": [
    "@tf.function\n",
    "def valid_step(images, labels):\n",
    "    predictions = model(images, training=False)\n",
    "    loss = loss_function(labels, predictions)\n",
    "    \n",
    "    valid_loss(loss)\n",
    "    valid_accuracy(labels, predictions)"
   ]
  },
  {
   "cell_type": "code",
   "execution_count": 30,
   "id": "paperback-struggle",
   "metadata": {},
   "outputs": [
    {
     "output_type": "stream",
     "name": "stdout",
     "text": [
      "epoch: 1, loss: 0.075, acc: 0.984, val_loss: 0.159, val_accuracy: 0.974\n",
      "epoch: 2, loss: 0.062, acc: 0.986, val_loss: 0.148, val_accuracy: 0.974\n",
      "epoch: 3, loss: 0.056, acc: 0.986, val_loss: 0.150, val_accuracy: 0.974\n",
      "epoch: 4, loss: 0.053, acc: 0.987, val_loss: 0.154, val_accuracy: 0.974\n",
      "epoch: 5, loss: 0.052, acc: 0.987, val_loss: 0.146, val_accuracy: 0.975\n",
      "epoch: 6, loss: 0.050, acc: 0.988, val_loss: 0.141, val_accuracy: 0.975\n",
      "epoch: 7, loss: 0.048, acc: 0.988, val_loss: 0.147, val_accuracy: 0.974\n",
      "epoch: 8, loss: 0.046, acc: 0.989, val_loss: 0.145, val_accuracy: 0.974\n",
      "epoch: 9, loss: 0.045, acc: 0.989, val_loss: 0.148, val_accuracy: 0.974\n",
      "epoch: 10, loss: 0.044, acc: 0.989, val_loss: 0.148, val_accuracy: 0.974\n"
     ]
    }
   ],
   "source": [
    "train_loss.reset_states()\n",
    "train_accuracy.reset_states()\n",
    "valid_loss.reset_states()\n",
    "valid_accuracy.reset_states()\n",
    "\n",
    "for epoch in range(10):\n",
    "    for images, labels in train_data:\n",
    "        train_step(images, labels)\n",
    "    \n",
    "    for images, labels in valid_data:\n",
    "        valid_step(images, labels)\n",
    "    \n",
    "    template = 'epoch: {}, loss: {:.3f}, acc: {:.3f}, val_loss: {:.3f}, val_accuracy: {:.3f}'\n",
    "    print(template.format(epoch+1, train_loss.result(), train_accuracy.result(), valid_loss.result(), valid_accuracy.result()))"
   ]
  },
  {
   "cell_type": "code",
   "execution_count": null,
   "id": "tracked-slovakia",
   "metadata": {},
   "outputs": [],
   "source": []
  }
 ],
 "metadata": {
  "kernelspec": {
   "display_name": "Python 3",
   "language": "python",
   "name": "python3"
  },
  "language_info": {
   "codemirror_mode": {
    "name": "ipython",
    "version": 3
   },
   "file_extension": ".py",
   "mimetype": "text/x-python",
   "name": "python",
   "nbconvert_exporter": "python",
   "pygments_lexer": "ipython3",
   "version": "3.8.8-final"
  }
 },
 "nbformat": 4,
 "nbformat_minor": 5
}